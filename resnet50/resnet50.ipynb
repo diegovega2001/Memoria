{
 "cells": [
  {
   "cell_type": "code",
   "execution_count": null,
   "id": "0466e4c4",
   "metadata": {},
   "outputs": [],
   "source": [
    "import os\n",
    "import pandas as pd\n",
    "import torch.nn as nn\n",
    "from src.pipeline.VisionPipeline import VisionPipeline"
   ]
  },
  {
   "cell_type": "code",
   "execution_count": null,
   "id": "19847190",
   "metadata": {},
   "outputs": [],
   "source": [
    "CSV_PATH = '../dataset.csv'\n",
    "dataset_df = pd.read_csv(CSV_PATH)\n",
    "root_dir = os.path.abspath('..')  \n",
    "\n",
    "dataset_df['image_path'] = dataset_df['image_path'].apply(lambda x: os.path.join(root_dir, x))"
   ]
  },
  {
   "cell_type": "markdown",
   "id": "4a5c4a1f",
   "metadata": {},
   "source": [
    "# Vista frontal"
   ]
  },
  {
   "cell_type": "code",
   "execution_count": null,
   "id": "1a7ba1ea",
   "metadata": {},
   "outputs": [],
   "source": [
    "CONFIG = {\n",
    "    \"name\": \"ResNet50 - Baseline\",\n",
    "    \"model_name\": \"resnet50\",\n",
    "    \"weights\": \"IMAGENET1K_V2\",\n",
    "    \"views\": [\"front\"],\n",
    "    \"gray_scale\": False,\n",
    "    \"train_images\": 5,          \n",
    "    \"val_ratio\": 0.5,\n",
    "    \"test_ratio\": 0.5,\n",
    "    \"seed\": 3,                 \n",
    "    \"augment\": False, \n",
    "    \"device\": \"mps\",          \n",
    "    \"batch_size\": 8,           \n",
    "    \"optimizer_trials\": 5,      \n",
    "    \"clusters to visualize\": 5, \n",
    "    \"finetune criterion\": \"CrossEntropyLoss\",\n",
    "    \"finetune optimizer type\": \"Adam\",\n",
    "    \"finetune optimizer lr\": 0.001,     \n",
    "    \"finetune optimizer head_lr\": 0.001,\n",
    "    \"finetune epochs\": 5,       \n",
    "    \"fine tune warm up epochs\": 0\n",
    "}\n",
    "\n",
    "pipeline = VisionPipeline(CONFIG, dataset_df)\n",
    "pipeline.run_full_pipeline(include_finetune=True)\n",
    "pipeline.save_results('resnet50_front_experiment1')"
   ]
  }
 ],
 "metadata": {
  "kernelspec": {
   "display_name": ".venv",
   "language": "python",
   "name": "python3"
  },
  "language_info": {
   "codemirror_mode": {
    "name": "ipython",
    "version": 3
   },
   "file_extension": ".py",
   "mimetype": "text/x-python",
   "name": "python",
   "nbconvert_exporter": "python",
   "pygments_lexer": "ipython3",
   "version": "3.12.6"
  }
 },
 "nbformat": 4,
 "nbformat_minor": 5
}
