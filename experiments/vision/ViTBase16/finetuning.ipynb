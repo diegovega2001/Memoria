{
  "cells": [
    {
      "cell_type": "code",
      "execution_count": null,
      "metadata": {
        "id": "9wTb0_VjWRde"
      },
      "outputs": [],
      "source": [
        "from src.pipeline.VisionPipeline import VisionPipeline"
      ]
    },
    {
      "cell_type": "code",
      "execution_count": null,
      "metadata": {
        "id": "kvso2oAnWSnY"
      },
      "outputs": [],
      "source": [
        "import pandas as pd\n",
        "dataset_df = pd.read_csv('dataset.csv')"
      ]
    },
    {
      "cell_type": "code",
      "execution_count": null,
      "metadata": {
        "id": "aJDXQNKuWTi0"
      },
      "outputs": [],
      "source": [
        "import torch\n",
        "import gc\n",
        "\n",
        "def clean_cuda():\n",
        "    gc.collect()\n",
        "    torch.cuda.empty_cache()"
      ]
    },
    {
      "cell_type": "code",
      "execution_count": null,
      "metadata": {
        "id": "Byj9SRRpWUtS"
      },
      "outputs": [],
      "source": [
        "def create_run_save_destroy_experiment(configuration):\n",
        "    pipeline = VisionPipeline(configuration, dataset_df)\n",
        "    pipeline.load_data()\n",
        "    pipeline.create_model()\n",
        "    pipeline.fine_tune()\n",
        "    pipeline.save_results(configuration[\"name\"])\n",
        "    clean_cuda()"
      ]
    },
    {
      "cell_type": "code",
      "execution_count": null,
      "metadata": {
        "id": "vxUBRCx5WWSo"
      },
      "outputs": [],
      "source": [
        "import logging\n",
        "logging.basicConfig(level=logging.INFO, force=True)"
      ]
    },
    {
      "cell_type": "markdown",
      "metadata": {
        "id": "qr0n244GVG1V"
      },
      "source": [
        "# Front View"
      ]
    },
    {
      "cell_type": "code",
      "execution_count": null,
      "metadata": {
        "colab": {
          "base_uri": "https://localhost:8080/"
        },
        "id": "q82umO7aiDFj",
        "outputId": "01493922-217a-4f10-bcfa-db72dd82efff"
      },
      "outputs": [
        {
          "name": "stderr",
          "output_type": "stream",
          "text": [
            "INFO:root:=== Dataset Overview ===\n",
            "Views: ['front']\n",
            "Number of models: 1184\n",
            "Train images per model per view: 5\n",
            "Val ratio = 0.75, Test ratio = 0.25\n",
            "Total validation images: 8160\n",
            "Validation images per model per view: Mean 6.891891891891892, Std: 4.786326435280966\n",
            "Total test images: 3294\n",
            "Test images per model per view: Mean 2.7820945945945947, Std: 1.6449606720750147\n",
            "\n",
            "INFO:root: === Model vit_b_16 created on cuda === \n",
            "INFO:root:=== STARTING FINE-TUNING (20 epochs) ===\n",
            "INFO:root:Epoch 1/20 | Train Loss: 7.1483 | Val Loss: 7.0260 | Val Acc: 0.21%\n",
            "INFO:root:Epoch 2/20 | Train Loss: 6.7597 | Val Loss: 6.6486 | Val Acc: 2.24%\n",
            "INFO:root:Epoch 3/20 | Train Loss: 5.8595 | Val Loss: 6.2046 | Val Acc: 6.42%\n",
            "INFO:root:Epoch 4/20 | Train Loss: 5.0084 | Val Loss: 5.8394 | Val Acc: 11.97%\n",
            "INFO:root:Epoch 5/20 | Train Loss: 4.2681 | Val Loss: 5.5122 | Val Acc: 17.59%\n",
            "INFO:root:Epoch 6/20 | Train Loss: 3.6094 | Val Loss: 5.2387 | Val Acc: 23.36%\n",
            "INFO:root:Epoch 7/20 | Train Loss: 2.9968 | Val Loss: 4.9665 | Val Acc: 28.48%\n",
            "INFO:root:Epoch 8/20 | Train Loss: 2.4381 | Val Loss: 4.7207 | Val Acc: 33.16%\n",
            "INFO:root:Epoch 9/20 | Train Loss: 1.9449 | Val Loss: 4.5080 | Val Acc: 36.25%\n",
            "INFO:root:Epoch 10/20 | Train Loss: 1.5193 | Val Loss: 4.3203 | Val Acc: 39.14%\n",
            "INFO:root:Epoch 11/20 | Train Loss: 1.1720 | Val Loss: 4.1567 | Val Acc: 41.63%\n",
            "INFO:root:Epoch 12/20 | Train Loss: 0.8947 | Val Loss: 4.0274 | Val Acc: 43.75%\n",
            "INFO:root:Epoch 13/20 | Train Loss: 0.6806 | Val Loss: 3.9258 | Val Acc: 44.90%\n",
            "INFO:root:Epoch 14/20 | Train Loss: 0.5233 | Val Loss: 3.8215 | Val Acc: 46.24%\n",
            "INFO:root:Epoch 15/20 | Train Loss: 0.4079 | Val Loss: 3.7577 | Val Acc: 47.19%\n",
            "INFO:root:Epoch 16/20 | Train Loss: 0.3244 | Val Loss: 3.6924 | Val Acc: 47.88%\n",
            "INFO:root:Epoch 17/20 | Train Loss: 0.2660 | Val Loss: 3.6494 | Val Acc: 48.47%\n",
            "INFO:root:Epoch 18/20 | Train Loss: 0.2222 | Val Loss: 3.6054 | Val Acc: 49.01%\n",
            "INFO:root:Epoch 19/20 | Train Loss: 0.1896 | Val Loss: 3.5633 | Val Acc: 49.08%\n",
            "INFO:root:Epoch 20/20 | Train Loss: 0.1645 | Val Loss: 3.5391 | Val Acc: 49.31%\n",
            "INFO:root:=== FINE-TUNING COMPLETED ===\n",
            "INFO:root: === Post-finetune embeddings extracted: torch.Size([3294, 768]) === \n",
            "INFO:root: === Results saved to: results/ViTBase16 - F.5_20250921_190941 ===\n"
          ]
        }
      ],
      "source": [
        "config = {\n",
        "            \"name\": \"ViTBase16 - F.5\",\n",
        "            \"model_name\": \"vit_b_16\",\n",
        "            \"weights\": \"IMAGENET1K_V1\",\n",
        "            \"views\": [\"front\"],\n",
        "            \"gray_scale\": False,\n",
        "            \"train_images\": 5,\n",
        "            \"val_ratio\": 0.75,\n",
        "            \"test_ratio\": 0.25,\n",
        "            \"seed\": 3,\n",
        "            \"augment\": True,\n",
        "            \"device\": \"cuda\",\n",
        "            \"batch_size\": 64,\n",
        "            \"finetune criterion\": \"CrossEntropyLoss\",\n",
        "            \"finetune optimizer type\": \"Adam\",\n",
        "            \"finetune optimizer lr\": 1e-5,\n",
        "            \"finetune optimizer head_lr\": 1e-4,\n",
        "            \"finetune optimizer weight_decay\": 1e-3,\n",
        "            \"finetune epochs\": 20\n",
        "          }\n",
        "\n",
        "create_run_save_destroy_experiment(config)"
      ]
    },
    {
      "cell_type": "code",
      "execution_count": null,
      "metadata": {
        "colab": {
          "base_uri": "https://localhost:8080/"
        },
        "id": "ZQooGJkJWXm_",
        "outputId": "4f1fd71f-fff7-4101-e592-bc565ee48c82"
      },
      "outputs": [
        {
          "name": "stderr",
          "output_type": "stream",
          "text": [
            "INFO:root:=== Dataset Overview ===\n",
            "Views: ['front']\n",
            "Number of models: 883\n",
            "Train images per model per view: 10\n",
            "Val ratio = 0.75, Test ratio = 0.25\n",
            "Total validation images: 4547\n",
            "Validation images per model per view: Mean 5.149490373725934, Std: 3.7895169329517677\n",
            "Total test images: 1957\n",
            "Test images per model per view: Mean 2.216308040770102, Std: 1.3161963301130533\n",
            "\n"
          ]
        },
        {
          "name": "stdout",
          "output_type": "stream",
          "text": [
            "Downloading: \"https://download.pytorch.org/models/vit_b_16-c867db91.pth\" to /root/.cache/torch/hub/checkpoints/vit_b_16-c867db91.pth\n"
          ]
        },
        {
          "name": "stderr",
          "output_type": "stream",
          "text": [
            "100%|██████████| 330M/330M [00:01<00:00, 186MB/s]\n",
            "INFO:root: === Model vit_b_16 created on cuda === \n",
            "INFO:root:=== STARTING FINE-TUNING (20 epochs) ===\n",
            "INFO:root:Epoch 1/20 | Train Loss: 6.7829 | Val Loss: 6.5600 | Val Acc: 1.08%\n",
            "INFO:root:Epoch 2/20 | Train Loss: 5.9453 | Val Loss: 5.6289 | Val Acc: 9.48%\n",
            "INFO:root:Epoch 3/20 | Train Loss: 4.7123 | Val Loss: 4.8678 | Val Acc: 24.96%\n",
            "INFO:root:Epoch 4/20 | Train Loss: 3.7182 | Val Loss: 4.2101 | Val Acc: 38.99%\n",
            "INFO:root:Epoch 5/20 | Train Loss: 2.8631 | Val Loss: 3.6640 | Val Acc: 49.75%\n",
            "INFO:root:Epoch 6/20 | Train Loss: 2.1474 | Val Loss: 3.1760 | Val Acc: 57.73%\n",
            "INFO:root:Epoch 7/20 | Train Loss: 1.5677 | Val Loss: 2.8056 | Val Acc: 62.90%\n",
            "INFO:root:Epoch 8/20 | Train Loss: 1.1271 | Val Loss: 2.5036 | Val Acc: 66.57%\n",
            "INFO:root:Epoch 9/20 | Train Loss: 0.8096 | Val Loss: 2.2765 | Val Acc: 69.25%\n",
            "INFO:root:Epoch 10/20 | Train Loss: 0.5871 | Val Loss: 2.1108 | Val Acc: 70.31%\n",
            "INFO:root:Epoch 11/20 | Train Loss: 0.4298 | Val Loss: 1.9873 | Val Acc: 72.16%\n",
            "INFO:root:Epoch 12/20 | Train Loss: 0.3221 | Val Loss: 1.9097 | Val Acc: 71.96%\n",
            "INFO:root:Epoch 13/20 | Train Loss: 0.2494 | Val Loss: 1.8191 | Val Acc: 73.52%\n",
            "INFO:root:Epoch 14/20 | Train Loss: 0.1983 | Val Loss: 1.7600 | Val Acc: 73.96%\n",
            "INFO:root:Epoch 15/20 | Train Loss: 0.1631 | Val Loss: 1.7146 | Val Acc: 74.40%\n",
            "INFO:root:Epoch 16/20 | Train Loss: 0.1376 | Val Loss: 1.6706 | Val Acc: 74.60%\n",
            "INFO:root:Epoch 17/20 | Train Loss: 0.1185 | Val Loss: 1.6461 | Val Acc: 74.66%\n",
            "INFO:root:Epoch 18/20 | Train Loss: 0.1043 | Val Loss: 1.6192 | Val Acc: 74.82%\n",
            "INFO:root:Epoch 19/20 | Train Loss: 0.0933 | Val Loss: 1.5915 | Val Acc: 75.04%\n",
            "INFO:root:Epoch 20/20 | Train Loss: 0.0845 | Val Loss: 1.5658 | Val Acc: 75.37%\n",
            "INFO:root:=== FINE-TUNING COMPLETED ===\n",
            "INFO:root: === Post-finetune embeddings extracted: torch.Size([1957, 768]) === \n",
            "INFO:root: === Results saved to: results/ViTBase16 - F.10_20250912_172004 ===\n"
          ]
        }
      ],
      "source": [
        "config = {\n",
        "            \"name\": \"ViTBase16 - F.10\",\n",
        "            \"model_name\": \"vit_b_16\",\n",
        "            \"weights\": \"IMAGENET1K_V1\",\n",
        "            \"views\": [\"front\"],\n",
        "            \"gray_scale\": False,\n",
        "            \"train_images\": 10,\n",
        "            \"val_ratio\": 0.75,\n",
        "            \"test_ratio\": 0.25,\n",
        "            \"seed\": 3,\n",
        "            \"augment\": True,\n",
        "            \"device\": \"cuda\",\n",
        "            \"batch_size\": 64,\n",
        "            \"finetune criterion\": \"CrossEntropyLoss\",\n",
        "            \"finetune optimizer type\": \"Adam\",\n",
        "            \"finetune optimizer lr\": 1e-5,\n",
        "            \"finetune optimizer head_lr\": 1e-4,\n",
        "            \"finetune optimizer weight_decay\": 1e-3,\n",
        "            \"finetune epochs\": 20\n",
        "          }\n",
        "\n",
        "create_run_save_destroy_experiment(config)"
      ]
    },
    {
      "cell_type": "code",
      "execution_count": null,
      "metadata": {
        "colab": {
          "base_uri": "https://localhost:8080/"
        },
        "id": "07qrE1_Swzh3",
        "outputId": "c4c40faf-b0f8-4623-8dcd-f552b5f15e1a"
      },
      "outputs": [
        {
          "name": "stderr",
          "output_type": "stream",
          "text": [
            "INFO:root:=== Dataset Overview ===\n",
            "Views: ['front']\n",
            "Number of models: 619\n",
            "Train images per model per view: 15\n",
            "Val ratio = 0.75, Test ratio = 0.25\n",
            "Total validation images: 1942\n",
            "Validation images per model per view: Mean 3.137318255250404, Std: 3.203221305800099\n",
            "Total test images: 934\n",
            "Test images per model per view: Mean 1.5088852988691437, Std: 1.12304479592806\n",
            "\n"
          ]
        },
        {
          "name": "stdout",
          "output_type": "stream",
          "text": [
            "Downloading: \"https://download.pytorch.org/models/vit_b_16-c867db91.pth\" to /root/.cache/torch/hub/checkpoints/vit_b_16-c867db91.pth\n"
          ]
        },
        {
          "name": "stderr",
          "output_type": "stream",
          "text": [
            "100%|██████████| 330M/330M [00:01<00:00, 187MB/s]\n",
            "INFO:root: === Model vit_b_16 created on cuda === \n",
            "INFO:root:=== STARTING FINE-TUNING (20 epochs) ===\n",
            "INFO:root:Epoch 1/20 | Train Loss: 6.4108 | Val Loss: 6.1343 | Val Acc: 1.96%\n",
            "INFO:root:Epoch 2/20 | Train Loss: 5.3306 | Val Loss: 4.8502 | Val Acc: 18.49%\n",
            "INFO:root:Epoch 3/20 | Train Loss: 3.8472 | Val Loss: 3.8828 | Val Acc: 39.55%\n",
            "INFO:root:Epoch 4/20 | Train Loss: 2.7323 | Val Loss: 3.0989 | Val Acc: 54.27%\n",
            "INFO:root:Epoch 5/20 | Train Loss: 1.8828 | Val Loss: 2.5400 | Val Acc: 62.82%\n",
            "INFO:root:Epoch 6/20 | Train Loss: 1.2809 | Val Loss: 2.1066 | Val Acc: 69.10%\n",
            "INFO:root:Epoch 7/20 | Train Loss: 0.8723 | Val Loss: 1.8065 | Val Acc: 73.94%\n",
            "INFO:root:Epoch 8/20 | Train Loss: 0.5999 | Val Loss: 1.5791 | Val Acc: 77.34%\n",
            "INFO:root:Epoch 9/20 | Train Loss: 0.4237 | Val Loss: 1.4402 | Val Acc: 78.58%\n",
            "INFO:root:Epoch 10/20 | Train Loss: 0.3077 | Val Loss: 1.3410 | Val Acc: 80.28%\n",
            "INFO:root:Epoch 11/20 | Train Loss: 0.2288 | Val Loss: 1.2601 | Val Acc: 81.00%\n",
            "INFO:root:Epoch 12/20 | Train Loss: 0.1742 | Val Loss: 1.2099 | Val Acc: 80.95%\n",
            "INFO:root:Epoch 13/20 | Train Loss: 0.1370 | Val Loss: 1.1599 | Val Acc: 81.46%\n",
            "INFO:root:Epoch 14/20 | Train Loss: 0.1122 | Val Loss: 1.1113 | Val Acc: 82.96%\n",
            "INFO:root:Epoch 15/20 | Train Loss: 0.0949 | Val Loss: 1.0881 | Val Acc: 82.44%\n",
            "INFO:root:Epoch 16/20 | Train Loss: 0.0817 | Val Loss: 1.0580 | Val Acc: 82.49%\n",
            "INFO:root:Epoch 17/20 | Train Loss: 0.0718 | Val Loss: 1.0370 | Val Acc: 82.80%\n",
            "INFO:root:Epoch 18/20 | Train Loss: 0.0654 | Val Loss: 1.0210 | Val Acc: 82.54%\n",
            "INFO:root:Epoch 19/20 | Train Loss: 0.0589 | Val Loss: 1.0053 | Val Acc: 83.06%\n",
            "INFO:root:Epoch 20/20 | Train Loss: 0.0549 | Val Loss: 0.9957 | Val Acc: 82.85%\n",
            "INFO:root:=== FINE-TUNING COMPLETED ===\n",
            "INFO:root: === Post-finetune embeddings extracted: torch.Size([934, 768]) === \n",
            "INFO:root: === Results saved to: results/ViTBase16 - F.15_20250912_185626 ===\n"
          ]
        }
      ],
      "source": [
        "config = {\n",
        "            \"name\": \"ViTBase16 - F.15\",\n",
        "            \"model_name\": \"vit_b_16\",\n",
        "            \"weights\": \"IMAGENET1K_V1\",\n",
        "            \"views\": [\"front\"],\n",
        "            \"gray_scale\": False,\n",
        "            \"train_images\": 15,\n",
        "            \"val_ratio\": 0.75,\n",
        "            \"test_ratio\": 0.25,\n",
        "            \"seed\": 3,\n",
        "            \"augment\": True,\n",
        "            \"device\": \"cuda\",\n",
        "            \"batch_size\": 64,\n",
        "            \"finetune criterion\": \"CrossEntropyLoss\",\n",
        "            \"finetune optimizer type\": \"Adam\",\n",
        "            \"finetune optimizer lr\": 1e-5,\n",
        "            \"finetune optimizer head_lr\": 1e-4,\n",
        "            \"finetune optimizer weight_decay\": 1e-3,\n",
        "            \"finetune epochs\": 20\n",
        "          }\n",
        "\n",
        "create_run_save_destroy_experiment(config)"
      ]
    },
    {
      "cell_type": "markdown",
      "metadata": {
        "id": "BN_rEQYWVLGN"
      },
      "source": [
        "# Front and Rear View"
      ]
    },
    {
      "cell_type": "code",
      "execution_count": null,
      "metadata": {
        "colab": {
          "base_uri": "https://localhost:8080/"
        },
        "id": "tyOi-sulaYXF",
        "outputId": "1ff62892-b442-4b39-fb23-a66f0e64c71f"
      },
      "outputs": [
        {
          "name": "stderr",
          "output_type": "stream",
          "text": [
            "INFO:root:=== Dataset Overview ===\n",
            "Views: ['front', 'rear']\n",
            "Number of models: 1018\n",
            "Train images per model per view: 5\n",
            "Val ratio = 0.75, Test ratio = 0.25\n",
            "Total validation images: 4845\n",
            "Validation images per model per view: Mean 4.759332023575639, Std: 3.511143689123802\n",
            "Total test images: 2118\n",
            "Test images per model per view: Mean 2.0805500982318272, Std: 1.2200820014733615\n",
            "\n"
          ]
        },
        {
          "name": "stdout",
          "output_type": "stream",
          "text": [
            "Downloading: \"https://download.pytorch.org/models/vit_b_16-c867db91.pth\" to /root/.cache/torch/hub/checkpoints/vit_b_16-c867db91.pth\n"
          ]
        },
        {
          "name": "stderr",
          "output_type": "stream",
          "text": [
            "100%|██████████| 330M/330M [00:01<00:00, 179MB/s]\n",
            "INFO:root: === Model vit_b_16 created on cuda === \n",
            "INFO:root:=== STARTING FINE-TUNING (15 epochs) ===\n",
            "INFO:root:Epoch 1/15 | Train Loss: 7.0046 | Val Loss: 6.8136 | Val Acc: 0.52%\n",
            "INFO:root:Epoch 2/15 | Train Loss: 6.1257 | Val Loss: 5.9035 | Val Acc: 6.65%\n",
            "INFO:root:Epoch 3/15 | Train Loss: 4.3131 | Val Loss: 5.0522 | Val Acc: 21.80%\n",
            "INFO:root:Epoch 4/15 | Train Loss: 2.8433 | Val Loss: 4.3536 | Val Acc: 37.69%\n",
            "INFO:root:Epoch 5/15 | Train Loss: 1.7061 | Val Loss: 3.8192 | Val Acc: 49.12%\n",
            "INFO:root:Epoch 6/15 | Train Loss: 0.9499 | Val Loss: 3.4173 | Val Acc: 56.51%\n",
            "INFO:root:Epoch 7/15 | Train Loss: 0.5227 | Val Loss: 3.1398 | Val Acc: 61.73%\n",
            "INFO:root:Epoch 8/15 | Train Loss: 0.3016 | Val Loss: 2.9444 | Val Acc: 64.27%\n",
            "INFO:root:Epoch 9/15 | Train Loss: 0.1987 | Val Loss: 2.8306 | Val Acc: 65.24%\n",
            "INFO:root:Epoch 10/15 | Train Loss: 0.1439 | Val Loss: 2.7266 | Val Acc: 66.85%\n",
            "INFO:root:Epoch 11/15 | Train Loss: 0.1119 | Val Loss: 2.6555 | Val Acc: 67.78%\n",
            "INFO:root:Epoch 12/15 | Train Loss: 0.0915 | Val Loss: 2.5859 | Val Acc: 68.90%\n",
            "INFO:root:Epoch 13/15 | Train Loss: 0.0773 | Val Loss: 2.5342 | Val Acc: 69.23%\n",
            "INFO:root:Epoch 14/15 | Train Loss: 0.0675 | Val Loss: 2.4863 | Val Acc: 69.78%\n",
            "INFO:root:Epoch 15/15 | Train Loss: 0.0599 | Val Loss: 2.4443 | Val Acc: 70.77%\n",
            "INFO:root:=== FINE-TUNING COMPLETED ===\n",
            "INFO:root: === Post-finetune embeddings extracted: torch.Size([2118, 1536]) === \n",
            "INFO:root: === Results saved to: results/ViTBase16 - FR.5_20250921_202843 ===\n"
          ]
        }
      ],
      "source": [
        "config = {\n",
        "            \"name\": \"ViTBase16 - FR.5\",\n",
        "            \"model_name\": \"vit_b_16\",\n",
        "            \"weights\": \"IMAGENET1K_V1\",\n",
        "            \"views\": [\"front\", \"rear\"],\n",
        "            \"gray_scale\": False,\n",
        "            \"train_images\": 5,\n",
        "            \"val_ratio\": 0.75,\n",
        "            \"test_ratio\": 0.25,\n",
        "            \"seed\": 3,\n",
        "            \"augment\": True,\n",
        "            \"device\": \"cuda\",\n",
        "            \"batch_size\": 32,\n",
        "            \"finetune criterion\": \"CrossEntropyLoss\",\n",
        "            \"finetune optimizer type\": \"Adam\",\n",
        "            \"finetune optimizer lr\": 1e-5,\n",
        "            \"finetune optimizer head_lr\": 1e-4,\n",
        "            \"finetune optimizer weight_decay\": 1e-3,\n",
        "            \"finetune epochs\": 15\n",
        "          }\n",
        "\n",
        "create_run_save_destroy_experiment(config)"
      ]
    },
    {
      "cell_type": "code",
      "execution_count": null,
      "metadata": {
        "colab": {
          "base_uri": "https://localhost:8080/"
        },
        "id": "wIstw1lmXCCA",
        "outputId": "f3455365-4ec5-4f91-80ad-0efdd3289361"
      },
      "outputs": [
        {
          "name": "stderr",
          "output_type": "stream",
          "text": [
            "INFO:root:=== Dataset Overview ===\n",
            "Views: ['front', 'rear']\n",
            "Number of models: 691\n",
            "Train images per model per view: 10\n",
            "Val ratio = 0.75, Test ratio = 0.25\n",
            "Total validation images: 1913\n",
            "Validation images per model per view: Mean 2.768451519536903, Std: 2.8312276216041266\n",
            "Total test images: 990\n",
            "Test images per model per view: Mean 1.4327062228654124, Std: 0.9725768355044391\n",
            "\n"
          ]
        },
        {
          "name": "stdout",
          "output_type": "stream",
          "text": [
            "Downloading: \"https://download.pytorch.org/models/vit_b_16-c867db91.pth\" to /root/.cache/torch/hub/checkpoints/vit_b_16-c867db91.pth\n"
          ]
        },
        {
          "name": "stderr",
          "output_type": "stream",
          "text": [
            "100%|██████████| 330M/330M [00:01<00:00, 182MB/s]\n",
            "INFO:root: === Model vit_b_16 created on cuda === \n",
            "INFO:root:=== STARTING FINE-TUNING (15 epochs) ===\n",
            "INFO:root:Epoch 1/15 | Train Loss: 6.4879 | Val Loss: 5.9433 | Val Acc: 4.18%\n",
            "INFO:root:Epoch 2/15 | Train Loss: 4.6328 | Val Loss: 4.0608 | Val Acc: 39.05%\n",
            "INFO:root:Epoch 3/15 | Train Loss: 2.4550 | Val Loss: 2.7684 | Val Acc: 66.60%\n",
            "INFO:root:Epoch 4/15 | Train Loss: 1.1346 | Val Loss: 1.9678 | Val Acc: 79.14%\n",
            "INFO:root:Epoch 5/15 | Train Loss: 0.5167 | Val Loss: 1.5584 | Val Acc: 83.59%\n",
            "INFO:root:Epoch 6/15 | Train Loss: 0.2652 | Val Loss: 1.3308 | Val Acc: 86.98%\n",
            "INFO:root:Epoch 7/15 | Train Loss: 0.1583 | Val Loss: 1.1946 | Val Acc: 87.61%\n",
            "INFO:root:Epoch 8/15 | Train Loss: 0.1073 | Val Loss: 1.0933 | Val Acc: 88.29%\n",
            "INFO:root:Epoch 9/15 | Train Loss: 0.0809 | Val Loss: 1.0218 | Val Acc: 89.28%\n",
            "INFO:root:Epoch 10/15 | Train Loss: 0.0648 | Val Loss: 0.9767 | Val Acc: 89.34%\n",
            "INFO:root:Epoch 11/15 | Train Loss: 0.0542 | Val Loss: 0.9286 | Val Acc: 89.44%\n",
            "INFO:root:Epoch 12/15 | Train Loss: 0.0472 | Val Loss: 0.8904 | Val Acc: 89.91%\n",
            "INFO:root:Epoch 13/15 | Train Loss: 0.0419 | Val Loss: 0.8707 | Val Acc: 89.86%\n",
            "INFO:root:Epoch 14/15 | Train Loss: 0.0386 | Val Loss: 0.8382 | Val Acc: 90.22%\n",
            "INFO:root:Epoch 15/15 | Train Loss: 0.0369 | Val Loss: 0.8205 | Val Acc: 90.28%\n",
            "INFO:root:=== FINE-TUNING COMPLETED ===\n",
            "INFO:root: === Post-finetune embeddings extracted: torch.Size([990, 1536]) === \n",
            "INFO:root: === Results saved to: results/ViTBase16 - FR.10_20250922_011044 ===\n"
          ]
        }
      ],
      "source": [
        "config = {\n",
        "            \"name\": \"ViTBase16 - FR.10\",\n",
        "            \"model_name\": \"vit_b_16\",\n",
        "            \"weights\": \"IMAGENET1K_V1\",\n",
        "            \"views\": [\"front\", \"rear\"],\n",
        "            \"gray_scale\": False,\n",
        "            \"train_images\": 10,\n",
        "            \"val_ratio\": 0.75,\n",
        "            \"test_ratio\": 0.25,\n",
        "            \"seed\": 3,\n",
        "            \"augment\": True,\n",
        "            \"device\": \"cuda\",\n",
        "            \"batch_size\": 32,\n",
        "            \"finetune criterion\": \"CrossEntropyLoss\",\n",
        "            \"finetune optimizer type\": \"Adam\",\n",
        "            \"finetune optimizer lr\": 1e-5,\n",
        "            \"finetune optimizer head_lr\": 1e-4,\n",
        "            \"finetune optimizer weight_decay\": 1e-3,\n",
        "            \"finetune epochs\": 15\n",
        "          }\n",
        "\n",
        "create_run_save_destroy_experiment(config)"
      ]
    },
    {
      "cell_type": "code",
      "execution_count": null,
      "metadata": {
        "colab": {
          "base_uri": "https://localhost:8080/"
        },
        "id": "HLLFly0Tr1yf",
        "outputId": "534a3be1-6c2e-4953-c9b5-0aad3a686513"
      },
      "outputs": [
        {
          "name": "stderr",
          "output_type": "stream",
          "text": [
            "INFO:root:=== Dataset Overview ===\n",
            "Views: ['front', 'rear']\n",
            "Number of models: 276\n",
            "Train images per model per view: 15\n",
            "Val ratio = 0.75, Test ratio = 0.25\n",
            "Total validation images: 422\n",
            "Validation images per model per view: Mean 1.5289855072463767, Std: 2.812219786969849\n",
            "Total test images: 267\n",
            "Test images per model per view: Mean 0.967391304347826, Std: 1.0120765740834254\n",
            "\n",
            "INFO:root: === Model vit_b_16 created on cuda === \n",
            "INFO:root:=== STARTING FINE-TUNING (15 epochs) ===\n",
            "INFO:root:Epoch 1/15 | Train Loss: 5.6015 | Val Loss: 5.1854 | Val Acc: 6.87%\n",
            "INFO:root:Epoch 2/15 | Train Loss: 3.8963 | Val Loss: 3.2457 | Val Acc: 41.47%\n",
            "INFO:root:Epoch 3/15 | Train Loss: 1.6654 | Val Loss: 1.9747 | Val Acc: 72.75%\n",
            "INFO:root:Epoch 4/15 | Train Loss: 0.6422 | Val Loss: 1.3913 | Val Acc: 81.99%\n",
            "INFO:root:Epoch 5/15 | Train Loss: 0.2812 | Val Loss: 1.1370 | Val Acc: 85.07%\n",
            "INFO:root:Epoch 6/15 | Train Loss: 0.1497 | Val Loss: 0.9747 | Val Acc: 87.68%\n",
            "INFO:root:Epoch 7/15 | Train Loss: 0.0949 | Val Loss: 0.8643 | Val Acc: 87.91%\n",
            "INFO:root:Epoch 8/15 | Train Loss: 0.0676 | Val Loss: 0.7983 | Val Acc: 87.91%\n",
            "INFO:root:Epoch 9/15 | Train Loss: 0.0516 | Val Loss: 0.7457 | Val Acc: 89.57%\n",
            "INFO:root:Epoch 10/15 | Train Loss: 0.0416 | Val Loss: 0.7100 | Val Acc: 90.28%\n",
            "INFO:root:Epoch 11/15 | Train Loss: 0.0347 | Val Loss: 0.6753 | Val Acc: 91.00%\n",
            "INFO:root:Epoch 12/15 | Train Loss: 0.0297 | Val Loss: 0.6514 | Val Acc: 90.52%\n",
            "INFO:root:Epoch 13/15 | Train Loss: 0.0259 | Val Loss: 0.6311 | Val Acc: 90.52%\n",
            "INFO:root:Epoch 14/15 | Train Loss: 0.0230 | Val Loss: 0.6091 | Val Acc: 91.00%\n",
            "INFO:root:Epoch 15/15 | Train Loss: 0.0208 | Val Loss: 0.6022 | Val Acc: 89.81%\n",
            "INFO:root:=== FINE-TUNING COMPLETED ===\n",
            "INFO:root: === Post-finetune embeddings extracted: torch.Size([267, 1536]) === \n",
            "INFO:root: === Results saved to: results/ViTBase16 - FR.15_20250921_204103 ===\n"
          ]
        }
      ],
      "source": [
        "config = {\n",
        "            \"name\": \"ViTBase16 - FR.15\",\n",
        "            \"model_name\": \"vit_b_16\",\n",
        "            \"weights\": \"IMAGENET1K_V1\",\n",
        "            \"views\": [\"front\", \"rear\"],\n",
        "            \"gray_scale\": False,\n",
        "            \"train_images\": 15,\n",
        "            \"val_ratio\": 0.75,\n",
        "            \"test_ratio\": 0.25,\n",
        "            \"seed\": 3,\n",
        "            \"augment\": True,\n",
        "            \"device\": \"cuda\",\n",
        "            \"batch_size\": 32,\n",
        "            \"finetune criterion\": \"CrossEntropyLoss\",\n",
        "            \"finetune optimizer type\": \"Adam\",\n",
        "            \"finetune optimizer lr\": 1e-5,\n",
        "            \"finetune optimizer head_lr\": 1e-4,\n",
        "            \"finetune optimizer weight_decay\": 1e-3,\n",
        "            \"finetune epochs\": 15\n",
        "          }\n",
        "\n",
        "create_run_save_destroy_experiment(config)"
      ]
    }
  ],
  "metadata": {
    "accelerator": "GPU",
    "colab": {
      "gpuType": "T4",
      "provenance": []
    },
    "kernelspec": {
      "display_name": "Python 3",
      "name": "python3"
    },
    "language_info": {
      "name": "python"
    }
  },
  "nbformat": 4,
  "nbformat_minor": 0
}
