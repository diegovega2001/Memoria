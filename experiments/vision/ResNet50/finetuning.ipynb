{
  "cells": [
    {
      "cell_type": "code",
      "execution_count": null,
      "metadata": {
        "id": "-i_27P4NS0zG"
      },
      "outputs": [],
      "source": [
        "from src.pipeline.VisionPipeline import VisionPipeline"
      ]
    },
    {
      "cell_type": "code",
      "execution_count": null,
      "metadata": {
        "id": "Swx1tMpWTujS"
      },
      "outputs": [],
      "source": [
        "import pandas as pd\n",
        "dataset_df = pd.read_csv('dataset.csv')"
      ]
    },
    {
      "cell_type": "code",
      "execution_count": null,
      "metadata": {
        "id": "abi_NWHuTwdv"
      },
      "outputs": [],
      "source": [
        "import torch\n",
        "import gc\n",
        "\n",
        "def clean_cuda():\n",
        "    gc.collect()\n",
        "    torch.cuda.empty_cache()"
      ]
    },
    {
      "cell_type": "code",
      "execution_count": null,
      "metadata": {
        "id": "xEcBzmuzTxQL"
      },
      "outputs": [],
      "source": [
        "def create_run_save_destroy_experiment(configuration):\n",
        "    pipeline = VisionPipeline(configuration, dataset_df)\n",
        "    pipeline.load_data()\n",
        "    pipeline.create_model()\n",
        "    pipeline.fine_tune()\n",
        "    pipeline.save_results(configuration[\"name\"])\n",
        "    clean_cuda()"
      ]
    },
    {
      "cell_type": "code",
      "execution_count": null,
      "metadata": {
        "id": "RkTlnSOrTyVx"
      },
      "outputs": [],
      "source": [
        "import logging\n",
        "logging.basicConfig(level=logging.INFO, force=True)"
      ]
    },
    {
      "cell_type": "markdown",
      "metadata": {
        "id": "KzATGC4QU41W"
      },
      "source": [
        "# Front View"
      ]
    },
    {
      "cell_type": "code",
      "execution_count": null,
      "metadata": {
        "colab": {
          "base_uri": "https://localhost:8080/"
        },
        "id": "_i3AZSkdkPS3",
        "outputId": "606178ec-db5e-4195-ae55-a2cbc11d0e92"
      },
      "outputs": [
        {
          "name": "stderr",
          "output_type": "stream",
          "text": [
            "INFO:root:=== Dataset Overview ===\n",
            "Views: ['front']\n",
            "Number of models: 1184\n",
            "Train images per model per view: 5\n",
            "Val ratio = 0.75, Test ratio = 0.25\n",
            "Total validation images: 8160\n",
            "Validation images per model per view: Mean 6.891891891891892, Std: 4.786326435280966\n",
            "Total test images: 3294\n",
            "Test images per model per view: Mean 2.7820945945945947, Std: 1.6449606720750147\n",
            "\n",
            "INFO:root: === Model resnet50 created on cuda === \n",
            "INFO:root:=== STARTING FINE-TUNING (15 epochs) ===\n",
            "INFO:root:Epoch 1/15 | Train Loss: 7.1052 | Val Loss: 7.0281 | Val Acc: 0.33%\n",
            "INFO:root:Epoch 2/15 | Train Loss: 6.7392 | Val Loss: 6.8308 | Val Acc: 1.59%\n",
            "INFO:root:Epoch 3/15 | Train Loss: 6.0522 | Val Loss: 6.4624 | Val Acc: 4.87%\n",
            "INFO:root:Epoch 4/15 | Train Loss: 5.1200 | Val Loss: 6.0182 | Val Acc: 9.26%\n",
            "INFO:root:Epoch 5/15 | Train Loss: 4.1864 | Val Loss: 5.5886 | Val Acc: 13.31%\n",
            "INFO:root:Epoch 6/15 | Train Loss: 3.3276 | Val Loss: 5.1727 | Val Acc: 17.79%\n",
            "INFO:root:Epoch 7/15 | Train Loss: 2.5945 | Val Loss: 4.7852 | Val Acc: 21.85%\n",
            "INFO:root:Epoch 8/15 | Train Loss: 1.9824 | Val Loss: 4.4738 | Val Acc: 25.66%\n",
            "INFO:root:Epoch 9/15 | Train Loss: 1.4883 | Val Loss: 4.2143 | Val Acc: 28.20%\n",
            "INFO:root:Epoch 10/15 | Train Loss: 1.1224 | Val Loss: 3.9953 | Val Acc: 30.60%\n",
            "INFO:root:Epoch 11/15 | Train Loss: 0.8542 | Val Loss: 3.8367 | Val Acc: 32.23%\n",
            "INFO:root:Epoch 12/15 | Train Loss: 0.6521 | Val Loss: 3.6931 | Val Acc: 34.07%\n",
            "INFO:root:Epoch 13/15 | Train Loss: 0.5039 | Val Loss: 3.6077 | Val Acc: 35.12%\n",
            "INFO:root:Epoch 14/15 | Train Loss: 0.4033 | Val Loss: 3.5145 | Val Acc: 36.29%\n",
            "INFO:root:Epoch 15/15 | Train Loss: 0.3278 | Val Loss: 3.4448 | Val Acc: 37.11%\n",
            "INFO:root:=== FINE-TUNING COMPLETED ===\n",
            "INFO:root: === Post-finetune embeddings extracted: torch.Size([3294, 2048]) === \n",
            "INFO:root: === Results saved to: results/ResNet50 - F.5_20250912_162935 ===\n"
          ]
        }
      ],
      "source": [
        "config = {\n",
        "            \"name\": \"ResNet50 - F.5\",\n",
        "            \"model_name\": \"resnet50\",\n",
        "            \"weights\": \"IMAGENET1K_V2\",\n",
        "            \"views\": [\"front\"],\n",
        "            \"gray_scale\": False,\n",
        "            \"train_images\": 5,\n",
        "            \"val_ratio\": 0.75,\n",
        "            \"test_ratio\": 0.25,\n",
        "            \"seed\": 3,\n",
        "            \"augment\": True,\n",
        "            \"device\": \"cuda\",\n",
        "            \"batch_size\": 64,\n",
        "            \"finetune criterion\": \"CrossEntropyLoss\",\n",
        "            \"finetune optimizer type\": \"Adam\",\n",
        "            \"finetune optimizer lr\": 1e-5,\n",
        "            \"finetune optimizer head_lr\": 1e-4,\n",
        "            \"finetune optimizer weight_decay\": 1e-3,\n",
        "            \"finetune epochs\": 15\n",
        "          }\n",
        "\n",
        "create_run_save_destroy_experiment(config)"
      ]
    },
    {
      "cell_type": "code",
      "execution_count": null,
      "metadata": {
        "colab": {
          "base_uri": "https://localhost:8080/"
        },
        "id": "K3YJDBCGRnXk",
        "outputId": "7c40ea30-8366-4b0a-935d-cd33ed599651"
      },
      "outputs": [
        {
          "name": "stderr",
          "output_type": "stream",
          "text": [
            "INFO:root:=== Dataset Overview ===\n",
            "Views: ['front']\n",
            "Number of models: 883\n",
            "Train images per model per view: 10\n",
            "Val ratio = 0.75, Test ratio = 0.25\n",
            "Total validation images: 4547\n",
            "Validation images per model per view: Mean 5.149490373725934, Std: 3.7895169329517677\n",
            "Total test images: 1957\n",
            "Test images per model per view: Mean 2.216308040770102, Std: 1.3161963301130533\n",
            "\n",
            "INFO:root: === Model resnet50 created on cuda === \n",
            "INFO:root:=== STARTING FINE-TUNING (15 epochs) ===\n",
            "INFO:root:Epoch 1/15 | Train Loss: 6.7809 | Val Loss: 6.6874 | Val Acc: 0.90%\n",
            "INFO:root:Epoch 2/15 | Train Loss: 6.3335 | Val Loss: 6.2613 | Val Acc: 4.82%\n",
            "INFO:root:Epoch 3/15 | Train Loss: 5.3987 | Val Loss: 5.4616 | Val Acc: 14.76%\n",
            "INFO:root:Epoch 4/15 | Train Loss: 4.2280 | Val Loss: 4.5905 | Val Acc: 25.14%\n",
            "INFO:root:Epoch 5/15 | Train Loss: 3.1512 | Val Loss: 3.8360 | Val Acc: 33.69%\n",
            "INFO:root:Epoch 6/15 | Train Loss: 2.2871 | Val Loss: 3.2633 | Val Acc: 41.96%\n",
            "INFO:root:Epoch 7/15 | Train Loss: 1.6465 | Val Loss: 2.8177 | Val Acc: 47.11%\n",
            "INFO:root:Epoch 8/15 | Train Loss: 1.1957 | Val Loss: 2.4927 | Val Acc: 52.74%\n",
            "INFO:root:Epoch 9/15 | Train Loss: 0.8792 | Val Loss: 2.2734 | Val Acc: 55.33%\n",
            "INFO:root:Epoch 10/15 | Train Loss: 0.6593 | Val Loss: 2.0833 | Val Acc: 58.10%\n",
            "INFO:root:Epoch 11/15 | Train Loss: 0.5035 | Val Loss: 1.9696 | Val Acc: 59.62%\n",
            "INFO:root:Epoch 12/15 | Train Loss: 0.3900 | Val Loss: 1.8571 | Val Acc: 61.56%\n",
            "INFO:root:Epoch 13/15 | Train Loss: 0.3095 | Val Loss: 1.7858 | Val Acc: 62.44%\n",
            "INFO:root:Epoch 14/15 | Train Loss: 0.2519 | Val Loss: 1.7229 | Val Acc: 63.62%\n",
            "INFO:root:Epoch 15/15 | Train Loss: 0.2070 | Val Loss: 1.6859 | Val Acc: 64.00%\n",
            "INFO:root:=== FINE-TUNING COMPLETED ===\n",
            "INFO:root: === Post-finetune embeddings extracted: torch.Size([1957, 2048]) === \n",
            "INFO:root: === Results saved to: results/ResNet50 - F.10_20250912_153936 ===\n"
          ]
        }
      ],
      "source": [
        "config = {\n",
        "            \"name\": \"ResNet50 - F.10\",\n",
        "            \"model_name\": \"resnet50\",\n",
        "            \"weights\": \"IMAGENET1K_V2\",\n",
        "            \"views\": [\"front\"],\n",
        "            \"gray_scale\": False,\n",
        "            \"train_images\": 10,\n",
        "            \"val_ratio\": 0.75,\n",
        "            \"test_ratio\": 0.25,\n",
        "            \"seed\": 3,\n",
        "            \"augment\": True,\n",
        "            \"device\": \"cuda\",\n",
        "            \"batch_size\": 64,\n",
        "            \"finetune criterion\": \"CrossEntropyLoss\",\n",
        "            \"finetune optimizer type\": \"Adam\",\n",
        "            \"finetune optimizer lr\": 1e-5,\n",
        "            \"finetune optimizer head_lr\": 1e-4,\n",
        "            \"finetune optimizer weight_decay\": 1e-3,\n",
        "            \"finetune epochs\": 15\n",
        "          }\n",
        "\n",
        "create_run_save_destroy_experiment(config)"
      ]
    },
    {
      "cell_type": "code",
      "execution_count": null,
      "metadata": {
        "colab": {
          "base_uri": "https://localhost:8080/"
        },
        "id": "iH0i1RG-TzGk",
        "outputId": "4986d90d-486c-4b23-b4d3-eb813560babc"
      },
      "outputs": [
        {
          "name": "stderr",
          "output_type": "stream",
          "text": [
            "INFO:root:=== Dataset Overview ===\n",
            "Views: ['front']\n",
            "Number of models: 619\n",
            "Train images per model per view: 15\n",
            "Val ratio = 0.75, Test ratio = 0.25\n",
            "Total validation images: 1942\n",
            "Validation images per model per view: Mean 3.137318255250404, Std: 3.203221305800099\n",
            "Total test images: 934\n",
            "Test images per model per view: Mean 1.5088852988691437, Std: 1.12304479592806\n",
            "\n",
            "INFO:root: === Model resnet50 created on cuda === \n",
            "INFO:root:=== STARTING FINE-TUNING (15 epochs) ===\n",
            "INFO:root:Epoch 1/15 | Train Loss: 6.4178 | Val Loss: 6.3204 | Val Acc: 0.82%\n",
            "INFO:root:Epoch 2/15 | Train Loss: 5.9785 | Val Loss: 5.8286 | Val Acc: 7.16%\n",
            "INFO:root:Epoch 3/15 | Train Loss: 5.0063 | Val Loss: 4.8581 | Val Acc: 19.88%\n",
            "INFO:root:Epoch 4/15 | Train Loss: 3.7510 | Val Loss: 3.8038 | Val Acc: 35.43%\n",
            "INFO:root:Epoch 5/15 | Train Loss: 2.6474 | Val Loss: 3.0876 | Val Acc: 46.19%\n",
            "INFO:root:Epoch 6/15 | Train Loss: 1.8325 | Val Loss: 2.4684 | Val Acc: 54.48%\n",
            "INFO:root:Epoch 7/15 | Train Loss: 1.2821 | Val Loss: 2.0645 | Val Acc: 59.58%\n",
            "INFO:root:Epoch 8/15 | Train Loss: 0.9171 | Val Loss: 1.8122 | Val Acc: 65.19%\n",
            "INFO:root:Epoch 9/15 | Train Loss: 0.6817 | Val Loss: 1.6354 | Val Acc: 67.04%\n",
            "INFO:root:Epoch 10/15 | Train Loss: 0.5171 | Val Loss: 1.4755 | Val Acc: 68.95%\n",
            "INFO:root:Epoch 11/15 | Train Loss: 0.3908 | Val Loss: 1.3644 | Val Acc: 69.77%\n",
            "INFO:root:Epoch 12/15 | Train Loss: 0.3127 | Val Loss: 1.2753 | Val Acc: 71.83%\n",
            "INFO:root:Epoch 13/15 | Train Loss: 0.2517 | Val Loss: 1.2685 | Val Acc: 71.63%\n",
            "INFO:root:Epoch 14/15 | Train Loss: 0.2071 | Val Loss: 1.1955 | Val Acc: 73.53%\n",
            "INFO:root:Epoch 15/15 | Train Loss: 0.1709 | Val Loss: 1.1493 | Val Acc: 73.74%\n",
            "INFO:root:=== FINE-TUNING COMPLETED ===\n",
            "INFO:root: === Post-finetune embeddings extracted: torch.Size([934, 2048]) === \n",
            "INFO:root: === Results saved to: results/ResNet50 - F.15_20250912_153137 ===\n"
          ]
        }
      ],
      "source": [
        "config = {\n",
        "            \"name\": \"ResNet50 - F.15\",\n",
        "            \"model_name\": \"resnet50\",\n",
        "            \"weights\": \"IMAGENET1K_V2\",\n",
        "            \"views\": [\"front\"],\n",
        "            \"gray_scale\": False,\n",
        "            \"train_images\": 15,\n",
        "            \"val_ratio\": 0.75,\n",
        "            \"test_ratio\": 0.25,\n",
        "            \"seed\": 3,\n",
        "            \"augment\": True,\n",
        "            \"device\": \"cuda\",\n",
        "            \"batch_size\": 64,\n",
        "            \"finetune criterion\": \"CrossEntropyLoss\",\n",
        "            \"finetune optimizer type\": \"Adam\",\n",
        "            \"finetune optimizer lr\": 1e-5,\n",
        "            \"finetune optimizer head_lr\": 1e-4,\n",
        "            \"finetune optimizer weight_decay\": 1e-3,\n",
        "            \"finetune epochs\": 15\n",
        "          }\n",
        "\n",
        "create_run_save_destroy_experiment(config)"
      ]
    },
    {
      "cell_type": "markdown",
      "metadata": {
        "id": "TTRJ9IdnU79r"
      },
      "source": [
        "# Front and Rear View"
      ]
    },
    {
      "cell_type": "code",
      "execution_count": null,
      "metadata": {
        "colab": {
          "base_uri": "https://localhost:8080/"
        },
        "id": "K9q9x8jala_b",
        "outputId": "32d4498f-4ee4-49ac-abfe-0e02070cce57"
      },
      "outputs": [
        {
          "name": "stderr",
          "output_type": "stream",
          "text": [
            "INFO:root:=== Dataset Overview ===\n",
            "Views: ['front', 'rear']\n",
            "Number of models: 1018\n",
            "Train images per model per view: 5\n",
            "Val ratio = 0.75, Test ratio = 0.25\n",
            "Total validation images: 4845\n",
            "Validation images per model per view: Mean 4.759332023575639, Std: 3.511143689123802\n",
            "Total test images: 2118\n",
            "Test images per model per view: Mean 2.0805500982318272, Std: 1.2200820014733615\n",
            "\n",
            "INFO:root: === Model resnet50 created on cuda === \n",
            "INFO:root:=== STARTING FINE-TUNING (10 epochs) ===\n",
            "INFO:root:Epoch 1/10 | Train Loss: 6.9830 | Val Loss: 6.8103 | Val Acc: 1.14%\n",
            "INFO:root:Epoch 2/10 | Train Loss: 6.0040 | Val Loss: 6.0825 | Val Acc: 8.03%\n",
            "INFO:root:Epoch 3/10 | Train Loss: 3.7799 | Val Loss: 5.0379 | Val Acc: 19.09%\n",
            "INFO:root:Epoch 4/10 | Train Loss: 1.8610 | Val Loss: 4.2488 | Val Acc: 29.41%\n",
            "INFO:root:Epoch 5/10 | Train Loss: 0.8673 | Val Loss: 3.7239 | Val Acc: 35.48%\n",
            "INFO:root:Epoch 6/10 | Train Loss: 0.4465 | Val Loss: 3.4554 | Val Acc: 38.93%\n",
            "INFO:root:Epoch 7/10 | Train Loss: 0.2723 | Val Loss: 3.3130 | Val Acc: 42.52%\n",
            "INFO:root:Epoch 8/10 | Train Loss: 0.1813 | Val Loss: 3.0828 | Val Acc: 43.78%\n",
            "INFO:root:Epoch 9/10 | Train Loss: 0.1565 | Val Loss: 3.2579 | Val Acc: 43.12%\n",
            "INFO:root:Epoch 10/10 | Train Loss: 0.1336 | Val Loss: 3.0466 | Val Acc: 45.76%\n",
            "INFO:root:=== FINE-TUNING COMPLETED ===\n",
            "INFO:root: === Post-finetune embeddings extracted: torch.Size([2118, 4096]) === \n",
            "INFO:root: === Results saved to: results/ResNet50 - FR.5_20250921_174140 ===\n"
          ]
        }
      ],
      "source": [
        "config = {\n",
        "            \"name\": \"ResNet50 - FR.5\",\n",
        "            \"model_name\": \"resnet50\",\n",
        "            \"weights\": \"IMAGENET1K_V2\",\n",
        "            \"views\": [\"front\", \"rear\"],\n",
        "            \"gray_scale\": False,\n",
        "            \"train_images\": 5,\n",
        "            \"val_ratio\": 0.75,\n",
        "            \"test_ratio\": 0.25,\n",
        "            \"seed\": 3,\n",
        "            \"augment\": True,\n",
        "            \"device\": \"cuda\",\n",
        "            \"batch_size\": 32,\n",
        "            \"finetune criterion\": \"CrossEntropyLoss\",\n",
        "            \"finetune optimizer type\": \"Adam\",\n",
        "            \"finetune optimizer lr\": 1e-5,\n",
        "            \"finetune optimizer head_lr\": 1e-4,\n",
        "            \"finetune optimizer weight_decay\": 1e-3,\n",
        "            \"finetune epochs\": 10\n",
        "          }\n",
        "\n",
        "create_run_save_destroy_experiment(config)"
      ]
    },
    {
      "cell_type": "code",
      "execution_count": null,
      "metadata": {
        "colab": {
          "base_uri": "https://localhost:8080/"
        },
        "id": "zIfygLZQNiWQ",
        "outputId": "22604feb-f6bb-428b-fe3a-c1872f6540b9"
      },
      "outputs": [
        {
          "name": "stderr",
          "output_type": "stream",
          "text": [
            "INFO:root:=== Dataset Overview ===\n",
            "Views: ['front', 'rear']\n",
            "Number of models: 691\n",
            "Train images per model per view: 10\n",
            "Val ratio = 0.75, Test ratio = 0.25\n",
            "Total validation images: 1913\n",
            "Validation images per model per view: Mean 2.768451519536903, Std: 2.8312276216041266\n",
            "Total test images: 990\n",
            "Test images per model per view: Mean 1.4327062228654124, Std: 0.9725768355044391\n",
            "\n"
          ]
        },
        {
          "name": "stdout",
          "output_type": "stream",
          "text": [
            "Downloading: \"https://download.pytorch.org/models/resnet50-11ad3fa6.pth\" to /root/.cache/torch/hub/checkpoints/resnet50-11ad3fa6.pth\n"
          ]
        },
        {
          "name": "stderr",
          "output_type": "stream",
          "text": [
            "100%|██████████| 97.8M/97.8M [00:00<00:00, 154MB/s]\n",
            "INFO:root: === Model resnet50 created on cuda === \n",
            "INFO:root:=== STARTING FINE-TUNING (10 epochs) ===\n",
            "INFO:root:Epoch 1/10 | Train Loss: 6.5325 | Val Loss: 6.3163 | Val Acc: 2.35%\n",
            "INFO:root:Epoch 2/10 | Train Loss: 5.2656 | Val Loss: 4.9040 | Val Acc: 20.70%\n",
            "INFO:root:Epoch 3/10 | Train Loss: 2.8287 | Val Loss: 3.2673 | Val Acc: 43.49%\n",
            "INFO:root:Epoch 4/10 | Train Loss: 1.2089 | Val Loss: 2.3800 | Val Acc: 55.20%\n",
            "INFO:root:Epoch 5/10 | Train Loss: 0.5424 | Val Loss: 1.9064 | Val Acc: 63.25%\n",
            "INFO:root:Epoch 6/10 | Train Loss: 0.2863 | Val Loss: 1.6827 | Val Acc: 66.70%\n",
            "INFO:root:Epoch 7/10 | Train Loss: 0.1741 | Val Loss: 1.5468 | Val Acc: 69.26%\n",
            "INFO:root:Epoch 8/10 | Train Loss: 0.1204 | Val Loss: 1.4431 | Val Acc: 70.20%\n",
            "INFO:root:Epoch 9/10 | Train Loss: 0.0902 | Val Loss: 1.3580 | Val Acc: 72.87%\n",
            "INFO:root:Epoch 10/10 | Train Loss: 0.0729 | Val Loss: 1.3074 | Val Acc: 73.29%\n",
            "INFO:root:=== FINE-TUNING COMPLETED ===\n",
            "INFO:root: === Post-finetune embeddings extracted: torch.Size([990, 4096]) === \n",
            "INFO:root: === Results saved to: results/ResNet50 - FR.10_20250921_174814 ===\n"
          ]
        }
      ],
      "source": [
        "config = {\n",
        "            \"name\": \"ResNet50 - FR.10\",\n",
        "            \"model_name\": \"resnet50\",\n",
        "            \"weights\": \"IMAGENET1K_V2\",\n",
        "            \"views\": [\"front\", \"rear\"],\n",
        "            \"gray_scale\": False,\n",
        "            \"train_images\": 10,\n",
        "            \"val_ratio\": 0.75,\n",
        "            \"test_ratio\": 0.25,\n",
        "            \"seed\": 3,\n",
        "            \"augment\": True,\n",
        "            \"device\": \"cuda\",\n",
        "            \"batch_size\": 32,\n",
        "            \"finetune criterion\": \"CrossEntropyLoss\",\n",
        "            \"finetune optimizer type\": \"Adam\",\n",
        "            \"finetune optimizer lr\": 1e-5,\n",
        "            \"finetune optimizer head_lr\": 1e-4,\n",
        "            \"finetune optimizer weight_decay\": 1e-3,\n",
        "            \"finetune epochs\": 10\n",
        "          }\n",
        "\n",
        "create_run_save_destroy_experiment(config)"
      ]
    },
    {
      "cell_type": "code",
      "execution_count": null,
      "metadata": {
        "colab": {
          "base_uri": "https://localhost:8080/"
        },
        "id": "mt5ltUpf5HbS",
        "outputId": "9e1b3e11-3ca8-42f8-c928-9fcb7791b693"
      },
      "outputs": [
        {
          "name": "stderr",
          "output_type": "stream",
          "text": [
            "INFO:root:=== Dataset Overview ===\n",
            "Views: ['front', 'rear']\n",
            "Number of models: 276\n",
            "Train images per model per view: 15\n",
            "Val ratio = 0.75, Test ratio = 0.25\n",
            "Total validation images: 422\n",
            "Validation images per model per view: Mean 1.5289855072463767, Std: 2.812219786969849\n",
            "Total test images: 267\n",
            "Test images per model per view: Mean 0.967391304347826, Std: 1.0120765740834254\n",
            "\n",
            "INFO:root: === Model resnet50 created on cuda === \n",
            "INFO:root:=== STARTING FINE-TUNING (10 epochs) ===\n",
            "INFO:root:Epoch 1/10 | Train Loss: 5.5943 | Val Loss: 5.4483 | Val Acc: 1.66%\n",
            "INFO:root:Epoch 2/10 | Train Loss: 4.9260 | Val Loss: 4.8305 | Val Acc: 15.17%\n",
            "INFO:root:Epoch 3/10 | Train Loss: 3.5690 | Val Loss: 3.6653 | Val Acc: 38.39%\n",
            "INFO:root:Epoch 4/10 | Train Loss: 2.0078 | Val Loss: 2.5140 | Val Acc: 55.69%\n",
            "INFO:root:Epoch 5/10 | Train Loss: 1.0000 | Val Loss: 1.8858 | Val Acc: 66.82%\n",
            "INFO:root:Epoch 6/10 | Train Loss: 0.5256 | Val Loss: 1.5896 | Val Acc: 71.80%\n",
            "INFO:root:Epoch 7/10 | Train Loss: 0.3069 | Val Loss: 1.4183 | Val Acc: 73.93%\n",
            "INFO:root:Epoch 8/10 | Train Loss: 0.1899 | Val Loss: 1.2187 | Val Acc: 76.07%\n",
            "INFO:root:Epoch 9/10 | Train Loss: 0.1346 | Val Loss: 1.1473 | Val Acc: 76.78%\n",
            "INFO:root:Epoch 10/10 | Train Loss: 0.1001 | Val Loss: 1.0603 | Val Acc: 78.44%\n",
            "INFO:root:=== FINE-TUNING COMPLETED ===\n",
            "INFO:root: === Post-finetune embeddings extracted: torch.Size([267, 4096]) === \n",
            "INFO:root: === Results saved to: results/ResNet50 - FR.15_20250921_173301 ===\n"
          ]
        }
      ],
      "source": [
        "config = {\n",
        "            \"name\": \"ResNet50 - FR.15\",\n",
        "            \"model_name\": \"resnet50\",\n",
        "            \"weights\": \"IMAGENET1K_V2\",\n",
        "            \"views\": [\"front\", \"rear\"],\n",
        "            \"gray_scale\": False,\n",
        "            \"train_images\": 15,\n",
        "            \"val_ratio\": 0.75,\n",
        "            \"test_ratio\": 0.25,\n",
        "            \"seed\": 3,\n",
        "            \"augment\": True,\n",
        "            \"device\": \"cuda\",\n",
        "            \"batch_size\": 32,\n",
        "            \"finetune criterion\": \"CrossEntropyLoss\",\n",
        "            \"finetune optimizer type\": \"Adam\",\n",
        "            \"finetune optimizer lr\": 1e-5,\n",
        "            \"finetune optimizer head_lr\": 1e-4,\n",
        "            \"finetune optimizer weight_decay\": 1e-3,\n",
        "            \"finetune epochs\": 10\n",
        "          }\n",
        "\n",
        "create_run_save_destroy_experiment(config)"
      ]
    },
    {
      "cell_type": "markdown",
      "metadata": {
        "id": "obQQKpf0U-3g"
      },
      "source": [
        "# Grayscale\n"
      ]
    },
    {
      "cell_type": "code",
      "execution_count": null,
      "metadata": {
        "colab": {
          "base_uri": "https://localhost:8080/"
        },
        "id": "gQrrbirYV-MD",
        "outputId": "094f62fb-888a-40be-9c37-bed0982aeeeb"
      },
      "outputs": [
        {
          "name": "stderr",
          "output_type": "stream",
          "text": [
            "INFO:root:=== Dataset Overview ===\n",
            "Views: ['front', 'rear']\n",
            "Number of models: 1018\n",
            "Train images per model per view: 5\n",
            "Val ratio = 0.75, Test ratio = 0.25\n",
            "Total validation images: 4845\n",
            "Validation images per model per view: Mean 4.759332023575639, Std: 3.511143689123802\n",
            "Total test images: 2118\n",
            "Test images per model per view: Mean 2.0805500982318272, Std: 1.2200820014733615\n",
            "\n",
            "INFO:root: === Model resnet50 created on cuda === \n",
            "INFO:root:=== STARTING FINE-TUNING (15 epochs) ===\n",
            "INFO:root:Epoch 1/15 | Train Loss: 6.9790 | Val Loss: 6.8577 | Val Acc: 0.37%\n",
            "INFO:root:Epoch 2/15 | Train Loss: 6.4876 | Val Loss: 6.5878 | Val Acc: 2.46%\n",
            "INFO:root:Epoch 3/15 | Train Loss: 5.4974 | Val Loss: 6.0663 | Val Acc: 7.95%\n",
            "INFO:root:Epoch 4/15 | Train Loss: 4.1181 | Val Loss: 5.4294 | Val Acc: 14.94%\n",
            "INFO:root:Epoch 5/15 | Train Loss: 2.7551 | Val Loss: 4.7866 | Val Acc: 22.25%\n",
            "INFO:root:Epoch 6/15 | Train Loss: 1.6881 | Val Loss: 4.2992 | Val Acc: 26.89%\n",
            "INFO:root:Epoch 7/15 | Train Loss: 0.9842 | Val Loss: 3.9255 | Val Acc: 31.70%\n",
            "INFO:root:Epoch 8/15 | Train Loss: 0.5824 | Val Loss: 3.6912 | Val Acc: 34.72%\n",
            "INFO:root:Epoch 9/15 | Train Loss: 0.3680 | Val Loss: 3.5042 | Val Acc: 36.55%\n",
            "INFO:root:Epoch 10/15 | Train Loss: 0.2528 | Val Loss: 3.3931 | Val Acc: 38.22%\n",
            "INFO:root:Epoch 11/15 | Train Loss: 0.1900 | Val Loss: 3.3225 | Val Acc: 39.03%\n",
            "INFO:root:Epoch 12/15 | Train Loss: 0.1479 | Val Loss: 3.2446 | Val Acc: 39.92%\n",
            "INFO:root:Epoch 13/15 | Train Loss: 0.1236 | Val Loss: 3.1910 | Val Acc: 41.07%\n",
            "INFO:root:Epoch 14/15 | Train Loss: 0.1058 | Val Loss: 3.1437 | Val Acc: 42.00%\n",
            "INFO:root:Epoch 15/15 | Train Loss: 0.0953 | Val Loss: 3.1268 | Val Acc: 41.69%\n",
            "INFO:root:=== FINE-TUNING COMPLETED ===\n",
            "INFO:root: === Post-finetune embeddings extracted: torch.Size([2118, 4096]) === \n",
            "INFO:root: === Results saved to: results/ResNet50 - F.10 - G_20250921_190517 ===\n"
          ]
        }
      ],
      "source": [
        "config = {\n",
        "            \"name\": \"ResNet50 - F.10 - G\",\n",
        "            \"model_name\": \"resnet50\",\n",
        "            \"weights\": \"IMAGENET1K_V2\",\n",
        "            \"views\": [\"front\", \"rear\"],\n",
        "            \"gray_scale\": True,\n",
        "            \"train_images\": 5,\n",
        "            \"val_ratio\": 0.75,\n",
        "            \"test_ratio\": 0.25,\n",
        "            \"seed\": 3,\n",
        "            \"augment\": True,\n",
        "            \"device\": \"cuda\",\n",
        "            \"batch_size\": 64,\n",
        "            \"finetune criterion\": \"CrossEntropyLoss\",\n",
        "            \"finetune optimizer type\": \"Adam\",\n",
        "            \"finetune optimizer lr\": 1e-5,\n",
        "            \"finetune optimizer head_lr\": 1e-4,\n",
        "            \"finetune optimizer weight_decay\": 1e-3,\n",
        "            \"finetune epochs\": 15\n",
        "          }\n",
        "\n",
        "create_run_save_destroy_experiment(config)"
      ]
    },
    {
      "cell_type": "code",
      "execution_count": null,
      "metadata": {
        "colab": {
          "base_uri": "https://localhost:8080/"
        },
        "id": "rh3da9V8aN3g",
        "outputId": "5ac88deb-be8f-493a-bb57-bf3518ed9d71"
      },
      "outputs": [
        {
          "name": "stderr",
          "output_type": "stream",
          "text": [
            "INFO:root:=== Dataset Overview ===\n",
            "Views: ['front', 'rear']\n",
            "Number of models: 691\n",
            "Train images per model per view: 10\n",
            "Val ratio = 0.75, Test ratio = 0.25\n",
            "Total validation images: 1913\n",
            "Validation images per model per view: Mean 2.768451519536903, Std: 2.8312276216041266\n",
            "Total test images: 990\n",
            "Test images per model per view: Mean 1.4327062228654124, Std: 0.9725768355044391\n",
            "\n",
            "INFO:root: === Model resnet50 created on cuda === \n",
            "INFO:root:=== STARTING FINE-TUNING (10 epochs) ===\n",
            "INFO:root:Epoch 1/10 | Train Loss: 6.5461 | Val Loss: 6.3779 | Val Acc: 1.36%\n",
            "INFO:root:Epoch 2/10 | Train Loss: 5.5453 | Val Loss: 5.1621 | Val Acc: 17.67%\n",
            "INFO:root:Epoch 3/10 | Train Loss: 3.2931 | Val Loss: 3.4862 | Val Acc: 40.46%\n",
            "INFO:root:Epoch 4/10 | Train Loss: 1.5104 | Val Loss: 2.5002 | Val Acc: 54.47%\n",
            "INFO:root:Epoch 5/10 | Train Loss: 0.6874 | Val Loss: 1.9753 | Val Acc: 62.57%\n",
            "INFO:root:Epoch 6/10 | Train Loss: 0.3533 | Val Loss: 1.7100 | Val Acc: 66.49%\n",
            "INFO:root:Epoch 7/10 | Train Loss: 0.2133 | Val Loss: 1.5454 | Val Acc: 69.16%\n",
            "INFO:root:Epoch 8/10 | Train Loss: 0.1411 | Val Loss: 1.4536 | Val Acc: 72.03%\n",
            "INFO:root:Epoch 9/10 | Train Loss: 0.1044 | Val Loss: 1.3839 | Val Acc: 72.92%\n",
            "INFO:root:Epoch 10/10 | Train Loss: 0.0837 | Val Loss: 1.3319 | Val Acc: 73.34%\n",
            "INFO:root:=== FINE-TUNING COMPLETED ===\n",
            "INFO:root: === Post-finetune embeddings extracted: torch.Size([990, 4096]) === \n",
            "INFO:root: === Results saved to: results/ResNet50 - FR.10 - G_20250921_184722 ===\n"
          ]
        }
      ],
      "source": [
        "config = {\n",
        "            \"name\": \"ResNet50 - FR.10 - G\",\n",
        "            \"model_name\": \"resnet50\",\n",
        "            \"weights\": \"IMAGENET1K_V2\",\n",
        "            \"views\": [\"front\", \"rear\"],\n",
        "            \"gray_scale\": True,\n",
        "            \"train_images\": 10,\n",
        "            \"val_ratio\": 0.75,\n",
        "            \"test_ratio\": 0.25,\n",
        "            \"seed\": 3,\n",
        "            \"augment\": True,\n",
        "            \"device\": \"cuda\",\n",
        "            \"batch_size\": 32,\n",
        "            \"finetune criterion\": \"CrossEntropyLoss\",\n",
        "            \"finetune optimizer type\": \"Adam\",\n",
        "            \"finetune optimizer lr\": 1e-5,\n",
        "            \"finetune optimizer head_lr\": 1e-4,\n",
        "            \"finetune optimizer weight_decay\": 1e-3,\n",
        "            \"finetune epochs\": 10\n",
        "          }\n",
        "\n",
        "create_run_save_destroy_experiment(config)"
      ]
    }
  ],
  "metadata": {
    "accelerator": "GPU",
    "colab": {
      "gpuType": "T4",
      "provenance": []
    },
    "kernelspec": {
      "display_name": "Python 3",
      "name": "python3"
    },
    "language_info": {
      "name": "python"
    }
  },
  "nbformat": 4,
  "nbformat_minor": 0
}
